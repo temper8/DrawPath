{
 "cells": [
  {
   "cell_type": "code",
   "execution_count": 87,
   "source": [
    "import os\r\n",
    "\r\n",
    "Icms_path = os.path.abspath(\"data\\\\lcms.dat\")\r\n",
    "file = open(Icms_path)\r\n",
    "\r\n",
    "header = file.readline().split()\r\n",
    "print(header)\r\n",
    "lines = file.readlines()\r\n",
    "\r\n",
    "table = [line.split() for line in lines]\r\n",
    "table = list(filter(None, table))\r\n",
    "\r\n",
    "R = [float(row[0]) for row in table]\r\n",
    "Z = [float(row[1]) for row in table]\r\n",
    "for i in range(4):\r\n",
    "    print(R[i],Z[i])"
   ],
   "outputs": [
    {
     "output_type": "stream",
     "name": "stdout",
     "text": [
      "['R(m)', 'Z(m)']\n",
      "0.605013 0.0\n",
      "0.604117 0.0273431\n",
      "0.601438 0.0545782\n",
      "0.597003 0.081598\n"
     ]
    }
   ],
   "metadata": {}
  },
  {
   "cell_type": "code",
   "execution_count": 47,
   "source": [],
   "outputs": [],
   "metadata": {}
  }
 ],
 "metadata": {
  "orig_nbformat": 4,
  "language_info": {
   "name": "python",
   "version": "3.9.6",
   "mimetype": "text/x-python",
   "codemirror_mode": {
    "name": "ipython",
    "version": 3
   },
   "pygments_lexer": "ipython3",
   "nbconvert_exporter": "python",
   "file_extension": ".py"
  },
  "kernelspec": {
   "name": "python3",
   "display_name": "Python 3.9.6 64-bit"
  },
  "interpreter": {
   "hash": "fd53f8c249623291e63135bef822915949e3f3335e4dc0876e850453ff060a17"
  }
 },
 "nbformat": 4,
 "nbformat_minor": 2
}