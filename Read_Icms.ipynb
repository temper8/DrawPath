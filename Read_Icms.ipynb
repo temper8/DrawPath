{
 "cells": [
  {
   "cell_type": "code",
   "execution_count": 77,
   "source": [
    "import os\r\n",
    "\r\n",
    "Icms_path = os.path.abspath(\"data\\\\lcms.dat\")\r\n",
    "file = open(Icms_path)\r\n",
    "\r\n",
    "header = file.readline().split()\r\n",
    "lines = file.readlines()\r\n",
    "\r\n",
    "table = [line.split() for line in lines]\r\n",
    "table = list(filter(None, table))\r\n",
    "\r\n",
    "R = [float(row[0]) for row in table]\r\n",
    "Z = [float(row[1]) for row in table]\r\n",
    "for i in range(0:3):\r\n",
    "    print(R[i],Z[i])"
   ],
   "outputs": [
    {
     "output_type": "execute_result",
     "data": {
      "text/plain": [
       "(0.604117, 0.0273431)"
      ]
     },
     "metadata": {},
     "execution_count": 77
    }
   ],
   "metadata": {}
  },
  {
   "cell_type": "code",
   "execution_count": 47,
   "source": [],
   "outputs": [],
   "metadata": {}
  }
 ],
 "metadata": {
  "orig_nbformat": 4,
  "language_info": {
   "name": "python",
   "version": "3.9.6",
   "mimetype": "text/x-python",
   "codemirror_mode": {
    "name": "ipython",
    "version": 3
   },
   "pygments_lexer": "ipython3",
   "nbconvert_exporter": "python",
   "file_extension": ".py"
  },
  "kernelspec": {
   "name": "python3",
   "display_name": "Python 3.9.6 64-bit"
  },
  "interpreter": {
   "hash": "fd53f8c249623291e63135bef822915949e3f3335e4dc0876e850453ff060a17"
  }
 },
 "nbformat": 4,
 "nbformat_minor": 2
}