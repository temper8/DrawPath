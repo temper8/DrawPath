{
 "cells": [
  {
   "cell_type": "code",
   "execution_count": 1,
   "source": [
    "%matplotlib widget\r\n",
    "import ipywidgets as widgets\r\n",
    "import matplotlib.pyplot as plt\r\n",
    "import numpy as np\r\n",
    "\r\n",
    "import numpy as np\r\n",
    "\r\n",
    "x = np.linspace(0, 2*np.pi)\r\n",
    "fig, ax = plt.subplots()\r\n",
    "line, = ax.plot(x, np.sin(x))\r\n",
    "ax.grid(True)\r\n",
    "\r\n",
    "@widgets.interact(freq = (0.0,5.0))\r\n",
    "def update(freq = 1.0):\r\n",
    "    \"\"\"update line data\"\"\"\r\n",
    "    line.set_ydata(np.sin(np.sin(x * freq)))\r\n",
    "    #ax.plot(x, np.sin(x * freq), color='C0')"
   ],
   "outputs": [
    {
     "output_type": "display_data",
     "data": {
      "application/vnd.jupyter.widget-view+json": {
       "version_major": 2,
       "version_minor": 0,
       "model_id": "d106ad34a1604c6793056fa5c1ecbbf7"
      },
      "text/plain": [
       "Canvas(toolbar=Toolbar(toolitems=[('Home', 'Reset original view', 'home', 'home'), ('Back', 'Back to previous …"
      ]
     },
     "metadata": {}
    },
    {
     "output_type": "display_data",
     "data": {
      "application/vnd.jupyter.widget-view+json": {
       "version_major": 2,
       "version_minor": 0,
       "model_id": "80f350c64af74832bf5a7a0e4bebb619"
      },
      "text/plain": [
       "interactive(children=(FloatSlider(value=1.0, description='freq', max=5.0), Output()), _dom_classes=('widget-in…"
      ]
     },
     "metadata": {}
    }
   ],
   "metadata": {}
  }
 ],
 "metadata": {
  "orig_nbformat": 4,
  "language_info": {
   "name": "python",
   "version": "3.9.6",
   "mimetype": "text/x-python",
   "codemirror_mode": {
    "name": "ipython",
    "version": 3
   },
   "pygments_lexer": "ipython3",
   "nbconvert_exporter": "python",
   "file_extension": ".py"
  },
  "kernelspec": {
   "name": "python3",
   "display_name": "Python 3.9.6 64-bit"
  },
  "interpreter": {
   "hash": "fd53f8c249623291e63135bef822915949e3f3335e4dc0876e850453ff060a17"
  }
 },
 "nbformat": 4,
 "nbformat_minor": 2
}